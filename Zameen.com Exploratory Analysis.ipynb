{
 "cells": [
  {
   "cell_type": "code",
   "execution_count": 13,
   "metadata": {},
   "outputs": [],
   "source": [
    "import pandas as pd\n",
    "\n",
    "df = pd.read_excel (r'C:\\Users\\Administrator\\Desktop\\Zameen data.xlsx')"
   ]
  },
  {
   "cell_type": "markdown",
   "metadata": {},
   "source": [
    "### The data at a glance:"
   ]
  },
  {
   "cell_type": "code",
   "execution_count": 14,
   "metadata": {},
   "outputs": [
    {
     "name": "stdout",
     "output_type": "stream",
     "text": [
      "<class 'pandas.core.frame.DataFrame'>\n",
      "RangeIndex: 3495 entries, 0 to 3494\n",
      "Data columns (total 53 columns):\n",
      " #   Column                      Non-Null Count  Dtype         \n",
      "---  ------                      --------------  -----         \n",
      " 0   Month                       3495 non-null   datetime64[ns]\n",
      " 1   Zone                        3495 non-null   object        \n",
      " 2   Head                        3495 non-null   object        \n",
      " 3   SBDM                        3495 non-null   object        \n",
      " 4   Date of Joining             3495 non-null   object        \n",
      " 5   DOJ M/Y                     3495 non-null   object        \n",
      " 6   DOJ Y                       3495 non-null   int64         \n",
      " 7   PF Status                   3495 non-null   object        \n",
      " 8   Aff: Regular Meetings       3495 non-null   int64         \n",
      " 9   Aff: V. Meetings            3495 non-null   int64         \n",
      " 10  Final: Regular Meetings     3495 non-null   int64         \n",
      " 11  Final: V. Meetings          3495 non-null   int64         \n",
      " 12  UVC                         3495 non-null   int64         \n",
      " 13  Regular Meeting             3495 non-null   int64         \n",
      " 14  User Name                   3495 non-null   object        \n",
      " 15  Designation                 3495 non-null   object        \n",
      " 16  Team Name                   3495 non-null   object        \n",
      " 17  Team City                   3265 non-null   object        \n",
      " 18  Total Leads Assigned        3495 non-null   int64         \n",
      " 19  Total Leads Added           2988 non-null   float64       \n",
      " 20  Total Leads Worked          3495 non-null   int64         \n",
      " 21  Total Emails                3495 non-null   int64         \n",
      " 22  Average Response Time       3495 non-null   object        \n",
      " 23  Total Calls                 3495 non-null   int64         \n",
      " 24  Total Attempt Calls         3495 non-null   int64         \n",
      " 25  Total Verified Calls        3495 non-null   object        \n",
      " 26  Total Unique Calls          3495 non-null   int64         \n",
      " 27  Average Daily Talk Time     3495 non-null   object        \n",
      " 28  Total Talk Time             3495 non-null   object        \n",
      " 29  Average Calls / Day         3495 non-null   object        \n",
      " 30  WhatsApp Call               3495 non-null   int64         \n",
      " 31  WhatsApp Message            3495 non-null   int64         \n",
      " 32  SMS                         3495 non-null   int64         \n",
      " 33  Meetings                    3495 non-null   int64         \n",
      " 34  Video Meetings              3495 non-null   int64         \n",
      " 35  Unique Meetings             3495 non-null   int64         \n",
      " 36  Average Meetings / Day      3495 non-null   float64       \n",
      " 37  Meetings / Meetings Pushed  3495 non-null   object        \n",
      " 38  Viewing                     3495 non-null   int64         \n",
      " 39  Negotiation                 3495 non-null   int64         \n",
      " 40  Closed                      3495 non-null   int64         \n",
      " 41  Closed Units                3495 non-null   int64         \n",
      " 42  Token Received              3495 non-null   int64         \n",
      " 43  Calls:Meetings              3495 non-null   float64       \n",
      " 44  Meetings:Closed             3495 non-null   object        \n",
      " 45  Total Leads Conversion      3495 non-null   float64       \n",
      " 46  Total Leads                 3495 non-null   int64         \n",
      " 47  Closed Leads Overall        3495 non-null   int64         \n",
      " 48  Closed Units Overall        3495 non-null   int64         \n",
      " 49  Overall Conversion          3495 non-null   float64       \n",
      " 50  working days                3495 non-null   int64         \n",
      " 51  average meetings/ day       3495 non-null   float64       \n",
      " 52  average V meetings/ day2    3495 non-null   float64       \n",
      "dtypes: datetime64[ns](1), float64(7), int64(28), object(17)\n",
      "memory usage: 1.4+ MB\n"
     ]
    }
   ],
   "source": [
    "df.info()"
   ]
  },
  {
   "cell_type": "code",
   "execution_count": 15,
   "metadata": {},
   "outputs": [
    {
     "data": {
      "text/html": [
       "<div>\n",
       "<style scoped>\n",
       "    .dataframe tbody tr th:only-of-type {\n",
       "        vertical-align: middle;\n",
       "    }\n",
       "\n",
       "    .dataframe tbody tr th {\n",
       "        vertical-align: top;\n",
       "    }\n",
       "\n",
       "    .dataframe thead th {\n",
       "        text-align: right;\n",
       "    }\n",
       "</style>\n",
       "<table border=\"1\" class=\"dataframe\">\n",
       "  <thead>\n",
       "    <tr style=\"text-align: right;\">\n",
       "      <th></th>\n",
       "      <th>DOJ Y</th>\n",
       "      <th>Aff: Regular Meetings</th>\n",
       "      <th>Aff: V. Meetings</th>\n",
       "      <th>Final: Regular Meetings</th>\n",
       "      <th>Final: V. Meetings</th>\n",
       "      <th>UVC</th>\n",
       "      <th>Regular Meeting</th>\n",
       "      <th>Total Leads Assigned</th>\n",
       "      <th>Total Leads Added</th>\n",
       "      <th>Total Leads Worked</th>\n",
       "      <th>...</th>\n",
       "      <th>Token Received</th>\n",
       "      <th>Calls:Meetings</th>\n",
       "      <th>Total Leads Conversion</th>\n",
       "      <th>Total Leads</th>\n",
       "      <th>Closed Leads Overall</th>\n",
       "      <th>Closed Units Overall</th>\n",
       "      <th>Overall Conversion</th>\n",
       "      <th>working days</th>\n",
       "      <th>average meetings/ day</th>\n",
       "      <th>average V meetings/ day2</th>\n",
       "    </tr>\n",
       "  </thead>\n",
       "  <tbody>\n",
       "    <tr>\n",
       "      <th>count</th>\n",
       "      <td>3495.000000</td>\n",
       "      <td>3495.000000</td>\n",
       "      <td>3495.000000</td>\n",
       "      <td>3495.000000</td>\n",
       "      <td>3495.000000</td>\n",
       "      <td>3495.0</td>\n",
       "      <td>3495.000000</td>\n",
       "      <td>3495.000000</td>\n",
       "      <td>2988.000000</td>\n",
       "      <td>3495.000000</td>\n",
       "      <td>...</td>\n",
       "      <td>3495.000000</td>\n",
       "      <td>3495.000000</td>\n",
       "      <td>3495.000000</td>\n",
       "      <td>3495.000000</td>\n",
       "      <td>3495.000000</td>\n",
       "      <td>3495.000000</td>\n",
       "      <td>3495.000000</td>\n",
       "      <td>3495.0</td>\n",
       "      <td>3495.000000</td>\n",
       "      <td>3495.000000</td>\n",
       "    </tr>\n",
       "    <tr>\n",
       "      <th>mean</th>\n",
       "      <td>2019.100143</td>\n",
       "      <td>14.865522</td>\n",
       "      <td>3.317310</td>\n",
       "      <td>23.627754</td>\n",
       "      <td>6.634621</td>\n",
       "      <td>0.0</td>\n",
       "      <td>8.762232</td>\n",
       "      <td>138.126466</td>\n",
       "      <td>13.314926</td>\n",
       "      <td>539.478684</td>\n",
       "      <td>...</td>\n",
       "      <td>0.813734</td>\n",
       "      <td>0.076464</td>\n",
       "      <td>0.000156</td>\n",
       "      <td>1638.126466</td>\n",
       "      <td>11.868383</td>\n",
       "      <td>7.273247</td>\n",
       "      <td>0.013229</td>\n",
       "      <td>110.0</td>\n",
       "      <td>0.135141</td>\n",
       "      <td>0.030157</td>\n",
       "    </tr>\n",
       "    <tr>\n",
       "      <th>std</th>\n",
       "      <td>0.794398</td>\n",
       "      <td>22.343309</td>\n",
       "      <td>7.509527</td>\n",
       "      <td>28.372283</td>\n",
       "      <td>15.019053</td>\n",
       "      <td>0.0</td>\n",
       "      <td>10.234758</td>\n",
       "      <td>227.547061</td>\n",
       "      <td>28.571823</td>\n",
       "      <td>411.837044</td>\n",
       "      <td>...</td>\n",
       "      <td>1.424270</td>\n",
       "      <td>0.346981</td>\n",
       "      <td>0.001107</td>\n",
       "      <td>1142.066499</td>\n",
       "      <td>15.081438</td>\n",
       "      <td>9.670354</td>\n",
       "      <td>0.044408</td>\n",
       "      <td>0.0</td>\n",
       "      <td>0.203121</td>\n",
       "      <td>0.068268</td>\n",
       "    </tr>\n",
       "    <tr>\n",
       "      <th>min</th>\n",
       "      <td>2016.000000</td>\n",
       "      <td>0.000000</td>\n",
       "      <td>0.000000</td>\n",
       "      <td>0.000000</td>\n",
       "      <td>0.000000</td>\n",
       "      <td>0.0</td>\n",
       "      <td>0.000000</td>\n",
       "      <td>0.000000</td>\n",
       "      <td>1.000000</td>\n",
       "      <td>0.000000</td>\n",
       "      <td>...</td>\n",
       "      <td>0.000000</td>\n",
       "      <td>0.000000</td>\n",
       "      <td>0.000000</td>\n",
       "      <td>0.000000</td>\n",
       "      <td>0.000000</td>\n",
       "      <td>0.000000</td>\n",
       "      <td>0.000000</td>\n",
       "      <td>110.0</td>\n",
       "      <td>0.000000</td>\n",
       "      <td>0.000000</td>\n",
       "    </tr>\n",
       "    <tr>\n",
       "      <th>25%</th>\n",
       "      <td>2019.000000</td>\n",
       "      <td>3.000000</td>\n",
       "      <td>0.000000</td>\n",
       "      <td>6.000000</td>\n",
       "      <td>0.000000</td>\n",
       "      <td>0.0</td>\n",
       "      <td>2.000000</td>\n",
       "      <td>32.000000</td>\n",
       "      <td>3.000000</td>\n",
       "      <td>219.000000</td>\n",
       "      <td>...</td>\n",
       "      <td>0.000000</td>\n",
       "      <td>0.009275</td>\n",
       "      <td>0.000000</td>\n",
       "      <td>766.000000</td>\n",
       "      <td>2.000000</td>\n",
       "      <td>1.000000</td>\n",
       "      <td>0.001990</td>\n",
       "      <td>110.0</td>\n",
       "      <td>0.027273</td>\n",
       "      <td>0.000000</td>\n",
       "    </tr>\n",
       "    <tr>\n",
       "      <th>50%</th>\n",
       "      <td>2019.000000</td>\n",
       "      <td>8.000000</td>\n",
       "      <td>1.000000</td>\n",
       "      <td>16.000000</td>\n",
       "      <td>2.000000</td>\n",
       "      <td>0.0</td>\n",
       "      <td>6.000000</td>\n",
       "      <td>76.000000</td>\n",
       "      <td>6.000000</td>\n",
       "      <td>523.000000</td>\n",
       "      <td>...</td>\n",
       "      <td>0.000000</td>\n",
       "      <td>0.022850</td>\n",
       "      <td>0.000000</td>\n",
       "      <td>1495.000000</td>\n",
       "      <td>8.000000</td>\n",
       "      <td>4.000000</td>\n",
       "      <td>0.004780</td>\n",
       "      <td>110.0</td>\n",
       "      <td>0.072727</td>\n",
       "      <td>0.009091</td>\n",
       "    </tr>\n",
       "    <tr>\n",
       "      <th>75%</th>\n",
       "      <td>2020.000000</td>\n",
       "      <td>16.000000</td>\n",
       "      <td>4.000000</td>\n",
       "      <td>31.000000</td>\n",
       "      <td>8.000000</td>\n",
       "      <td>0.0</td>\n",
       "      <td>12.000000</td>\n",
       "      <td>148.000000</td>\n",
       "      <td>13.000000</td>\n",
       "      <td>773.000000</td>\n",
       "      <td>...</td>\n",
       "      <td>1.000000</td>\n",
       "      <td>0.045495</td>\n",
       "      <td>0.000040</td>\n",
       "      <td>2287.000000</td>\n",
       "      <td>16.000000</td>\n",
       "      <td>10.000000</td>\n",
       "      <td>0.009430</td>\n",
       "      <td>110.0</td>\n",
       "      <td>0.145455</td>\n",
       "      <td>0.036364</td>\n",
       "    </tr>\n",
       "    <tr>\n",
       "      <th>max</th>\n",
       "      <td>2020.000000</td>\n",
       "      <td>187.000000</td>\n",
       "      <td>145.000000</td>\n",
       "      <td>275.000000</td>\n",
       "      <td>290.000000</td>\n",
       "      <td>0.0</td>\n",
       "      <td>115.000000</td>\n",
       "      <td>3546.000000</td>\n",
       "      <td>784.000000</td>\n",
       "      <td>4741.000000</td>\n",
       "      <td>...</td>\n",
       "      <td>15.000000</td>\n",
       "      <td>10.000000</td>\n",
       "      <td>0.043330</td>\n",
       "      <td>7376.000000</td>\n",
       "      <td>199.000000</td>\n",
       "      <td>68.000000</td>\n",
       "      <td>1.000000</td>\n",
       "      <td>110.0</td>\n",
       "      <td>1.700000</td>\n",
       "      <td>1.318182</td>\n",
       "    </tr>\n",
       "  </tbody>\n",
       "</table>\n",
       "<p>8 rows × 35 columns</p>\n",
       "</div>"
      ],
      "text/plain": [
       "             DOJ Y  Aff: Regular Meetings  Aff: V. Meetings  \\\n",
       "count  3495.000000            3495.000000       3495.000000   \n",
       "mean   2019.100143              14.865522          3.317310   \n",
       "std       0.794398              22.343309          7.509527   \n",
       "min    2016.000000               0.000000          0.000000   \n",
       "25%    2019.000000               3.000000          0.000000   \n",
       "50%    2019.000000               8.000000          1.000000   \n",
       "75%    2020.000000              16.000000          4.000000   \n",
       "max    2020.000000             187.000000        145.000000   \n",
       "\n",
       "       Final: Regular Meetings  Final: V. Meetings     UVC  Regular Meeting  \\\n",
       "count              3495.000000         3495.000000  3495.0      3495.000000   \n",
       "mean                 23.627754            6.634621     0.0         8.762232   \n",
       "std                  28.372283           15.019053     0.0        10.234758   \n",
       "min                   0.000000            0.000000     0.0         0.000000   \n",
       "25%                   6.000000            0.000000     0.0         2.000000   \n",
       "50%                  16.000000            2.000000     0.0         6.000000   \n",
       "75%                  31.000000            8.000000     0.0        12.000000   \n",
       "max                 275.000000          290.000000     0.0       115.000000   \n",
       "\n",
       "       Total Leads Assigned  Total Leads Added  Total Leads Worked  ...  \\\n",
       "count           3495.000000        2988.000000         3495.000000  ...   \n",
       "mean             138.126466          13.314926          539.478684  ...   \n",
       "std              227.547061          28.571823          411.837044  ...   \n",
       "min                0.000000           1.000000            0.000000  ...   \n",
       "25%               32.000000           3.000000          219.000000  ...   \n",
       "50%               76.000000           6.000000          523.000000  ...   \n",
       "75%              148.000000          13.000000          773.000000  ...   \n",
       "max             3546.000000         784.000000         4741.000000  ...   \n",
       "\n",
       "       Token Received  Calls:Meetings  Total Leads Conversion  Total Leads  \\\n",
       "count     3495.000000     3495.000000             3495.000000  3495.000000   \n",
       "mean         0.813734        0.076464                0.000156  1638.126466   \n",
       "std          1.424270        0.346981                0.001107  1142.066499   \n",
       "min          0.000000        0.000000                0.000000     0.000000   \n",
       "25%          0.000000        0.009275                0.000000   766.000000   \n",
       "50%          0.000000        0.022850                0.000000  1495.000000   \n",
       "75%          1.000000        0.045495                0.000040  2287.000000   \n",
       "max         15.000000       10.000000                0.043330  7376.000000   \n",
       "\n",
       "       Closed Leads Overall  Closed Units Overall  Overall Conversion  \\\n",
       "count           3495.000000           3495.000000         3495.000000   \n",
       "mean              11.868383              7.273247            0.013229   \n",
       "std               15.081438              9.670354            0.044408   \n",
       "min                0.000000              0.000000            0.000000   \n",
       "25%                2.000000              1.000000            0.001990   \n",
       "50%                8.000000              4.000000            0.004780   \n",
       "75%               16.000000             10.000000            0.009430   \n",
       "max              199.000000             68.000000            1.000000   \n",
       "\n",
       "       working days  average meetings/ day  average V meetings/ day2  \n",
       "count        3495.0            3495.000000               3495.000000  \n",
       "mean          110.0               0.135141                  0.030157  \n",
       "std             0.0               0.203121                  0.068268  \n",
       "min           110.0               0.000000                  0.000000  \n",
       "25%           110.0               0.027273                  0.000000  \n",
       "50%           110.0               0.072727                  0.009091  \n",
       "75%           110.0               0.145455                  0.036364  \n",
       "max           110.0               1.700000                  1.318182  \n",
       "\n",
       "[8 rows x 35 columns]"
      ]
     },
     "execution_count": 15,
     "metadata": {},
     "output_type": "execute_result"
    }
   ],
   "source": [
    "df.describe()"
   ]
  },
  {
   "cell_type": "markdown",
   "metadata": {},
   "source": [
    "### Numerical Analysis and Visualization"
   ]
  },
  {
   "cell_type": "markdown",
   "metadata": {},
   "source": [
    "###### We shall analyze Total Leads Added Column"
   ]
  },
  {
   "cell_type": "code",
   "execution_count": 17,
   "metadata": {},
   "outputs": [
    {
     "data": {
      "text/plain": [
       "count    2988.000000\n",
       "mean       13.314926\n",
       "std        28.571823\n",
       "min         1.000000\n",
       "25%         3.000000\n",
       "50%         6.000000\n",
       "75%        13.000000\n",
       "max       784.000000\n",
       "Name: Total Leads Added, dtype: float64"
      ]
     },
     "execution_count": 17,
     "metadata": {},
     "output_type": "execute_result"
    }
   ],
   "source": [
    "df['Total Leads Added'].describe()"
   ]
  },
  {
   "cell_type": "code",
   "execution_count": 18,
   "metadata": {},
   "outputs": [
    {
     "data": {
      "text/plain": [
       "6.0"
      ]
     },
     "execution_count": 18,
     "metadata": {},
     "output_type": "execute_result"
    }
   ],
   "source": [
    "df['Total Leads Added'].median()"
   ]
  },
  {
   "cell_type": "code",
   "execution_count": 20,
   "metadata": {},
   "outputs": [
    {
     "data": {
      "text/plain": [
       "<matplotlib.axes._subplots.AxesSubplot at 0xa5dd648>"
      ]
     },
     "execution_count": 20,
     "metadata": {},
     "output_type": "execute_result"
    },
    {
     "data": {
      "image/png": "[encoded data removed]",
      "text/plain": [
       "<Figure size 1008x432 with 1 Axes>"
      ]
     },
     "metadata": {
      "needs_background": "light"
     },
     "output_type": "display_data"
    }
   ],
   "source": [
    "df['Total Leads Added'].plot(kind='box', vert=False, figsize=(14,6))"
   ]
  },
  {
   "cell_type": "code",
   "execution_count": 22,
   "metadata": {},
   "outputs": [
    {
     "data": {
      "text/plain": [
       "<matplotlib.axes._subplots.AxesSubplot at 0xc635e48>"
      ]
     },
     "execution_count": 22,
     "metadata": {},
     "output_type": "execute_result"
    },
    {
     "data": {
      "image/png": "[encoded data removed]",
      "text/plain": [
       "<Figure size 1008x432 with 1 Axes>"
      ]
     },
     "metadata": {
      "needs_background": "light"
     },
     "output_type": "display_data"
    }
   ],
   "source": [
    "df['Total Leads Added'].plot(kind='density', figsize=(14,6))"
   ]
  },
  {
   "cell_type": "code",
   "execution_count": 39,
   "metadata": {},
   "outputs": [
    {
     "data": {
      "text/plain": [
       "13.314926372155288"
      ]
     },
     "execution_count": 39,
     "metadata": {},
     "output_type": "execute_result"
    }
   ],
   "source": [
    "df['Total Leads Added'].mean()"
   ]
  },
  {
   "cell_type": "code",
   "execution_count": 23,
   "metadata": {},
   "outputs": [
    {
     "data": {
      "text/plain": [
       "<matplotlib.axes._subplots.AxesSubplot at 0xc69a688>"
      ]
     },
     "execution_count": 23,
     "metadata": {},
     "output_type": "execute_result"
    },
    {
     "data": {
      "image/png": "[encoded data removed]",
      "text/plain": [
       "<Figure size 1008x432 with 1 Axes>"
      ]
     },
     "metadata": {
      "needs_background": "light"
     },
     "output_type": "display_data"
    }
   ],
   "source": [
    "df['Final: V. Meetings'].plot(kind='density', figsize=(14,6))"
   ]
  },
  {
   "cell_type": "code",
   "execution_count": 88,
   "metadata": {},
   "outputs": [
    {
     "data": {
      "text/plain": [
       "<matplotlib.lines.Line2D at 0xe9febc8>"
      ]
     },
     "execution_count": 88,
     "metadata": {},
     "output_type": "execute_result"
    },
    {
     "data": {
      "image/png": "[encoded data removed]",
      "text/plain": [
       "<Figure size 1008x432 with 1 Axes>"
      ]
     },
     "metadata": {
      "needs_background": "light"
     },
     "output_type": "display_data"
    }
   ],
   "source": [
    "ax = df['Final: V. Meetings'].plot(kind='density', figsize=(14,6)) \n",
    "ax.axvline(df['Final: V. Meetings'].mean(), color='green')\n",
    "ax.axvline(df['Final: V. Meetings'].median(), color='red')"
   ]
  },
  {
   "cell_type": "markdown",
   "metadata": {},
   "source": [
    "## Categorical Analysis and Visualization"
   ]
  },
  {
   "cell_type": "markdown",
   "metadata": {},
   "source": [
    "##### We'll analyze the Team City column:"
   ]
  },
  {
   "cell_type": "code",
   "execution_count": 26,
   "metadata": {},
   "outputs": [
    {
     "data": {
      "text/plain": [
       "Lahore            1175\n",
       "Karachi            595\n",
       "Islamabad          570\n",
       "Peshawar           245\n",
       "Faisalabad         155\n",
       "Rahim Yar Khan     115\n",
       "Hyderabad           80\n",
       "Gujranwala          65\n",
       "Sargodha            65\n",
       "Bahawalpur          60\n",
       "Multan              55\n",
       "Sialkot             35\n",
       "Sahiwal             20\n",
       "Pakpattan           15\n",
       "Jhelum              15\n",
       "Name: Team City, dtype: int64"
      ]
     },
     "execution_count": 26,
     "metadata": {},
     "output_type": "execute_result"
    }
   ],
   "source": [
    "df['Team City'].value_counts()"
   ]
  },
  {
   "cell_type": "code",
   "execution_count": 31,
   "metadata": {},
   "outputs": [
    {
     "data": {
      "text/plain": [
       "Text(0.5, 1.0, 'Citywise Sales Force')"
      ]
     },
     "execution_count": 31,
     "metadata": {},
     "output_type": "execute_result"
    },
    {
     "data": {
      "image/png": "[encoded data removed]",
      "text/plain": [
       "<Figure size 432x432 with 1 Axes>"
      ]
     },
     "metadata": {},
     "output_type": "display_data"
    }
   ],
   "source": [
    "df['Team City'].value_counts().plot(kind='pie', figsize=(6,6))\n",
    "plt.title('Citywise Sales Force')"
   ]
  },
  {
   "cell_type": "code",
   "execution_count": 38,
   "metadata": {},
   "outputs": [
    {
     "data": {
      "text/plain": [
       "Text(0, 0.5, 'Zone')"
      ]
     },
     "execution_count": 38,
     "metadata": {},
     "output_type": "execute_result"
    },
    {
     "data": {
      "image/png": "[encoded data removed]",
      "text/plain": [
       "<Figure size 1008x432 with 1 Axes>"
      ]
     },
     "metadata": {
      "needs_background": "light"
     },
     "output_type": "display_data"
    }
   ],
   "source": [
    "ax = df['Zone'].value_counts().plot(kind='bar', figsize=(14,6))\n",
    "ax.set_ylabel('Zone')"
   ]
  },
  {
   "cell_type": "markdown",
   "metadata": {},
   "source": [
    "### Column wrangling"
   ]
  },
  {
   "cell_type": "markdown",
   "metadata": {},
   "source": [
    "##### lets calculate Total Leads Assigned/day"
   ]
  },
  {
   "cell_type": "code",
   "execution_count": 45,
   "metadata": {},
   "outputs": [],
   "source": [
    "df['Total leads Assigned/Day'] = df['Total Leads Assigned']/df['working days']"
   ]
  },
  {
   "cell_type": "code",
   "execution_count": 46,
   "metadata": {},
   "outputs": [
    {
     "data": {
      "text/plain": [
       "count    3495.000000\n",
       "mean        1.255695\n",
       "std         2.068610\n",
       "min         0.000000\n",
       "25%         0.290909\n",
       "50%         0.690909\n",
       "75%         1.345455\n",
       "max        32.236364\n",
       "Name: Total leads Assigned/Day, dtype: float64"
      ]
     },
     "execution_count": 46,
     "metadata": {},
     "output_type": "execute_result"
    }
   ],
   "source": [
    "df['Total leads Assigned/Day'].describe()"
   ]
  },
  {
   "cell_type": "code",
   "execution_count": 74,
   "metadata": {
    "scrolled": true
   },
   "outputs": [
    {
     "data": {
      "text/plain": [
       "<matplotlib.axes._subplots.AxesSubplot at 0xe972148>"
      ]
     },
     "execution_count": 74,
     "metadata": {},
     "output_type": "execute_result"
    },
    {
     "data": {
      "image/png": "[encoded data removed]",
      "text/plain": [
       "<Figure size 432x432 with 1 Axes>"
      ]
     },
     "metadata": {
      "needs_background": "light"
     },
     "output_type": "display_data"
    }
   ],
   "source": [
    "df.plot(kind='scatter', x='Total leads Assigned/Day', y='Aff: V. Meetings', figsize=(6,6))"
   ]
  },
  {
   "cell_type": "markdown",
   "metadata": {},
   "source": [
    "## List all the overburdened Sales Agents"
   ]
  },
  {
   "cell_type": "markdown",
   "metadata": {},
   "source": [
    "#### with the condition that total leads/day were more than 4 in a month and video meetings were more than 2 in a month"
   ]
  },
  {
   "cell_type": "code",
   "execution_count": 85,
   "metadata": {},
   "outputs": [
    {
     "data": {
      "text/html": [
       "<div>\n",
       "<style scoped>\n",
       "    .dataframe tbody tr th:only-of-type {\n",
       "        vertical-align: middle;\n",
       "    }\n",
       "\n",
       "    .dataframe tbody tr th {\n",
       "        vertical-align: top;\n",
       "    }\n",
       "\n",
       "    .dataframe thead th {\n",
       "        text-align: right;\n",
       "    }\n",
       "</style>\n",
       "<table border=\"1\" class=\"dataframe\">\n",
       "  <thead>\n",
       "    <tr style=\"text-align: right;\">\n",
       "      <th></th>\n",
       "      <th>Zone</th>\n",
       "      <th>User Name</th>\n",
       "    </tr>\n",
       "  </thead>\n",
       "  <tbody>\n",
       "    <tr>\n",
       "      <th>28</th>\n",
       "      <td>Central</td>\n",
       "      <td>Maham Rahat</td>\n",
       "    </tr>\n",
       "    <tr>\n",
       "      <th>29</th>\n",
       "      <td>Central</td>\n",
       "      <td>Faisal Latif</td>\n",
       "    </tr>\n",
       "    <tr>\n",
       "      <th>60</th>\n",
       "      <td>Lahore</td>\n",
       "      <td>Akmal Mansha</td>\n",
       "    </tr>\n",
       "    <tr>\n",
       "      <th>163</th>\n",
       "      <td>Lahore</td>\n",
       "      <td>Assad Ali</td>\n",
       "    </tr>\n",
       "    <tr>\n",
       "      <th>216</th>\n",
       "      <td>Central</td>\n",
       "      <td>Uzma Sana</td>\n",
       "    </tr>\n",
       "    <tr>\n",
       "      <th>218</th>\n",
       "      <td>Central</td>\n",
       "      <td>Marium Yousaf</td>\n",
       "    </tr>\n",
       "    <tr>\n",
       "      <th>352</th>\n",
       "      <td>Lahore</td>\n",
       "      <td>Haseeb Saeed</td>\n",
       "    </tr>\n",
       "    <tr>\n",
       "      <th>420</th>\n",
       "      <td>North</td>\n",
       "      <td>Toheed Qasim</td>\n",
       "    </tr>\n",
       "    <tr>\n",
       "      <th>536</th>\n",
       "      <td>Central</td>\n",
       "      <td>Hannan Sajid</td>\n",
       "    </tr>\n",
       "    <tr>\n",
       "      <th>562</th>\n",
       "      <td>South</td>\n",
       "      <td>Hammad Chishti</td>\n",
       "    </tr>\n",
       "    <tr>\n",
       "      <th>609</th>\n",
       "      <td>Central</td>\n",
       "      <td>Zeeshan Ashfaq</td>\n",
       "    </tr>\n",
       "    <tr>\n",
       "      <th>610</th>\n",
       "      <td>Central</td>\n",
       "      <td>Zaid Latif</td>\n",
       "    </tr>\n",
       "    <tr>\n",
       "      <th>648</th>\n",
       "      <td>South</td>\n",
       "      <td>Syed Taha</td>\n",
       "    </tr>\n",
       "    <tr>\n",
       "      <th>777</th>\n",
       "      <td>Lahore</td>\n",
       "      <td>Usman Iftikhar Pal</td>\n",
       "    </tr>\n",
       "    <tr>\n",
       "      <th>781</th>\n",
       "      <td>Lahore</td>\n",
       "      <td>Moiz Ali</td>\n",
       "    </tr>\n",
       "    <tr>\n",
       "      <th>827</th>\n",
       "      <td>Central</td>\n",
       "      <td>Sadan Khan</td>\n",
       "    </tr>\n",
       "    <tr>\n",
       "      <th>848</th>\n",
       "      <td>Lahore</td>\n",
       "      <td>Ramsha kaif ul sahar</td>\n",
       "    </tr>\n",
       "    <tr>\n",
       "      <th>849</th>\n",
       "      <td>Lahore</td>\n",
       "      <td>Usman Ishaq</td>\n",
       "    </tr>\n",
       "    <tr>\n",
       "      <th>852</th>\n",
       "      <td>Lahore</td>\n",
       "      <td>Saad Butt</td>\n",
       "    </tr>\n",
       "    <tr>\n",
       "      <th>859</th>\n",
       "      <td>Lahore</td>\n",
       "      <td>Syed Nasir</td>\n",
       "    </tr>\n",
       "    <tr>\n",
       "      <th>866</th>\n",
       "      <td>Lahore</td>\n",
       "      <td>Ahmad Mehmood</td>\n",
       "    </tr>\n",
       "    <tr>\n",
       "      <th>884</th>\n",
       "      <td>North</td>\n",
       "      <td>Moosa Ali</td>\n",
       "    </tr>\n",
       "    <tr>\n",
       "      <th>1002</th>\n",
       "      <td>North</td>\n",
       "      <td>Atif Arif</td>\n",
       "    </tr>\n",
       "    <tr>\n",
       "      <th>1098</th>\n",
       "      <td>UAE</td>\n",
       "      <td>Hammad Hamza</td>\n",
       "    </tr>\n",
       "    <tr>\n",
       "      <th>1243</th>\n",
       "      <td>South</td>\n",
       "      <td>Arsalan Abid</td>\n",
       "    </tr>\n",
       "    <tr>\n",
       "      <th>1476</th>\n",
       "      <td>Lahore</td>\n",
       "      <td>Usman Iftikhar Pal</td>\n",
       "    </tr>\n",
       "    <tr>\n",
       "      <th>1508</th>\n",
       "      <td>Lahore</td>\n",
       "      <td>Bilal Azhar</td>\n",
       "    </tr>\n",
       "    <tr>\n",
       "      <th>1514</th>\n",
       "      <td>South</td>\n",
       "      <td>Ali Qamar</td>\n",
       "    </tr>\n",
       "    <tr>\n",
       "      <th>1558</th>\n",
       "      <td>Lahore</td>\n",
       "      <td>Syed Nasir</td>\n",
       "    </tr>\n",
       "    <tr>\n",
       "      <th>1612</th>\n",
       "      <td>Central</td>\n",
       "      <td>Ali Maqbool</td>\n",
       "    </tr>\n",
       "    <tr>\n",
       "      <th>1696</th>\n",
       "      <td>North</td>\n",
       "      <td>Abdul Basit</td>\n",
       "    </tr>\n",
       "    <tr>\n",
       "      <th>1806</th>\n",
       "      <td>Central</td>\n",
       "      <td>Laraib Fatima</td>\n",
       "    </tr>\n",
       "    <tr>\n",
       "      <th>1807</th>\n",
       "      <td>Central</td>\n",
       "      <td>Ali Asad</td>\n",
       "    </tr>\n",
       "    <tr>\n",
       "      <th>1890</th>\n",
       "      <td>South</td>\n",
       "      <td>Wahab Ali</td>\n",
       "    </tr>\n",
       "    <tr>\n",
       "      <th>2051</th>\n",
       "      <td>North</td>\n",
       "      <td>Hareem Abbass</td>\n",
       "    </tr>\n",
       "    <tr>\n",
       "      <th>2083</th>\n",
       "      <td>South</td>\n",
       "      <td>Junaid Imtiaz</td>\n",
       "    </tr>\n",
       "    <tr>\n",
       "      <th>2111</th>\n",
       "      <td>Lahore</td>\n",
       "      <td>Ahmad Ali</td>\n",
       "    </tr>\n",
       "    <tr>\n",
       "      <th>2157</th>\n",
       "      <td>Lahore</td>\n",
       "      <td>Akmal Mansha</td>\n",
       "    </tr>\n",
       "    <tr>\n",
       "      <th>2158</th>\n",
       "      <td>Lahore</td>\n",
       "      <td>Abdur Rehman</td>\n",
       "    </tr>\n",
       "    <tr>\n",
       "      <th>2159</th>\n",
       "      <td>Lahore</td>\n",
       "      <td>Ahmed Faraz</td>\n",
       "    </tr>\n",
       "    <tr>\n",
       "      <th>2160</th>\n",
       "      <td>Lahore</td>\n",
       "      <td>Muhammad Haris</td>\n",
       "    </tr>\n",
       "    <tr>\n",
       "      <th>2260</th>\n",
       "      <td>Lahore</td>\n",
       "      <td>Assad Ali</td>\n",
       "    </tr>\n",
       "    <tr>\n",
       "      <th>2261</th>\n",
       "      <td>Lahore</td>\n",
       "      <td>Hassan Riaz</td>\n",
       "    </tr>\n",
       "    <tr>\n",
       "      <th>2264</th>\n",
       "      <td>Lahore</td>\n",
       "      <td>Ahmad Mehmood</td>\n",
       "    </tr>\n",
       "    <tr>\n",
       "      <th>2336</th>\n",
       "      <td>Central</td>\n",
       "      <td>Ghazna Khan</td>\n",
       "    </tr>\n",
       "    <tr>\n",
       "      <th>2357</th>\n",
       "      <td>South</td>\n",
       "      <td>Aamir Umer</td>\n",
       "    </tr>\n",
       "    <tr>\n",
       "      <th>2451</th>\n",
       "      <td>Lahore</td>\n",
       "      <td>Ali Raza Bhatti</td>\n",
       "    </tr>\n",
       "    <tr>\n",
       "      <th>2462</th>\n",
       "      <td>Lahore</td>\n",
       "      <td>Atif Umar</td>\n",
       "    </tr>\n",
       "    <tr>\n",
       "      <th>2509</th>\n",
       "      <td>Central</td>\n",
       "      <td>Allah Dad</td>\n",
       "    </tr>\n",
       "    <tr>\n",
       "      <th>2625</th>\n",
       "      <td>South</td>\n",
       "      <td>Shahid Siddiqui</td>\n",
       "    </tr>\n",
       "    <tr>\n",
       "      <th>2644</th>\n",
       "      <td>South</td>\n",
       "      <td>Khalid Shaikh</td>\n",
       "    </tr>\n",
       "    <tr>\n",
       "      <th>2844</th>\n",
       "      <td>Lahore</td>\n",
       "      <td>Muhammad Jaleel</td>\n",
       "    </tr>\n",
       "    <tr>\n",
       "      <th>2894</th>\n",
       "      <td>South</td>\n",
       "      <td>Qaiser Shakeel</td>\n",
       "    </tr>\n",
       "    <tr>\n",
       "      <th>2991</th>\n",
       "      <td>Lahore</td>\n",
       "      <td>Saleem Hussain</td>\n",
       "    </tr>\n",
       "    <tr>\n",
       "      <th>3406</th>\n",
       "      <td>Central</td>\n",
       "      <td>Zaid Latif</td>\n",
       "    </tr>\n",
       "  </tbody>\n",
       "</table>\n",
       "</div>"
      ],
      "text/plain": [
       "         Zone             User Name\n",
       "28    Central           Maham Rahat\n",
       "29    Central          Faisal Latif\n",
       "60     Lahore          Akmal Mansha\n",
       "163    Lahore             Assad Ali\n",
       "216   Central             Uzma Sana\n",
       "218   Central         Marium Yousaf\n",
       "352    Lahore          Haseeb Saeed\n",
       "420     North          Toheed Qasim\n",
       "536   Central          Hannan Sajid\n",
       "562     South        Hammad Chishti\n",
       "609   Central        Zeeshan Ashfaq\n",
       "610   Central            Zaid Latif\n",
       "648     South             Syed Taha\n",
       "777    Lahore    Usman Iftikhar Pal\n",
       "781    Lahore              Moiz Ali\n",
       "827   Central            Sadan Khan\n",
       "848    Lahore  Ramsha kaif ul sahar\n",
       "849    Lahore           Usman Ishaq\n",
       "852    Lahore             Saad Butt\n",
       "859    Lahore            Syed Nasir\n",
       "866    Lahore         Ahmad Mehmood\n",
       "884     North             Moosa Ali\n",
       "1002    North             Atif Arif\n",
       "1098      UAE          Hammad Hamza\n",
       "1243    South          Arsalan Abid\n",
       "1476   Lahore    Usman Iftikhar Pal\n",
       "1508   Lahore           Bilal Azhar\n",
       "1514    South             Ali Qamar\n",
       "1558   Lahore            Syed Nasir\n",
       "1612  Central           Ali Maqbool\n",
       "1696    North           Abdul Basit\n",
       "1806  Central         Laraib Fatima\n",
       "1807  Central              Ali Asad\n",
       "1890    South             Wahab Ali\n",
       "2051    North         Hareem Abbass\n",
       "2083    South         Junaid Imtiaz\n",
       "2111   Lahore             Ahmad Ali\n",
       "2157   Lahore          Akmal Mansha\n",
       "2158   Lahore          Abdur Rehman\n",
       "2159   Lahore           Ahmed Faraz\n",
       "2160   Lahore        Muhammad Haris\n",
       "2260   Lahore             Assad Ali\n",
       "2261   Lahore           Hassan Riaz\n",
       "2264   Lahore         Ahmad Mehmood\n",
       "2336  Central           Ghazna Khan\n",
       "2357    South            Aamir Umer\n",
       "2451   Lahore       Ali Raza Bhatti\n",
       "2462   Lahore             Atif Umar\n",
       "2509  Central             Allah Dad\n",
       "2625    South       Shahid Siddiqui\n",
       "2644    South         Khalid Shaikh\n",
       "2844   Lahore       Muhammad Jaleel\n",
       "2894    South        Qaiser Shakeel\n",
       "2991   Lahore        Saleem Hussain\n",
       "3406  Central            Zaid Latif"
      ]
     },
     "execution_count": 85,
     "metadata": {},
     "output_type": "execute_result"
    }
   ],
   "source": [
    "df.loc[(df['Total leads Assigned/Day']>4) & (df['Aff: V. Meetings']> 2) ,['Zone','User Name']]"
   ]
  },
  {
   "cell_type": "code",
   "execution_count": 87,
   "metadata": {},
   "outputs": [
    {
     "data": {
      "text/plain": [
       "55"
      ]
     },
     "execution_count": 87,
     "metadata": {},
     "output_type": "execute_result"
    }
   ],
   "source": [
    "df.loc[(df['Total leads Assigned/Day']>4) & (df['Aff: V. Meetings']> 2)].shape[0]"
   ]
  }
 ],
 "metadata": {
  "kernelspec": {
   "display_name": "Python 3",
   "language": "python",
   "name": "python3"
  },
  "language_info": {
   "codemirror_mode": {
    "name": "ipython",
    "version": 3
   },
   "file_extension": ".py",
   "mimetype": "text/x-python",
   "name": "python",
   "nbconvert_exporter": "python",
   "pygments_lexer": "ipython3",
   "version": "3.7.6"
  }
 },
 "nbformat": 4,
 "nbformat_minor": 4
}
